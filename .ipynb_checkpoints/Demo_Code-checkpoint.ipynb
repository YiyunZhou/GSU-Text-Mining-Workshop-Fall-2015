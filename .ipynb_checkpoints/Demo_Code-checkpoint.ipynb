{
 "cells": [
  {
   "cell_type": "markdown",
   "metadata": {},
   "source": [
    "## GSU Text Mining Workshop Fall 2015\n",
    "\n",
    "* Hosted by: Center for Process Innovation (CEPRIN) in collaboration with The Institute for Insight\n",
    "* Location: Room 304, GSU Buckhead Campus\n",
    "* Time: December 4, 2015 at 2:00 pm\n"
   ]
  },
  {
   "cell_type": "markdown",
   "metadata": {},
   "source": [
    "* Speaker: Zhitao Yin\n",
    "* Workshop developed with the guidance of Dr. Arun Rai"
   ]
  },
  {
   "cell_type": "markdown",
   "metadata": {},
   "source": [
    "**Please follow the [instruction](https://github.com/zhitaoyin/GSU-Text-Mining-Workshop-Fall-2015/blob/master/Instruction.md) to set up your Python environment.**"
   ]
  },
  {
   "cell_type": "markdown",
   "metadata": {},
   "source": [
    "### Part 1: Import Packages"
   ]
  },
  {
   "cell_type": "code",
   "execution_count": 1,
   "metadata": {
    "collapsed": false
   },
   "outputs": [
    {
     "name": "stdout",
     "output_type": "stream",
     "text": [
      "Populating the interactive namespace from numpy and matplotlib\n"
     ]
    }
   ],
   "source": [
    "# Display figures in iPython notebook\n",
    "%pylab inline"
   ]
  },
  {
   "cell_type": "code",
   "execution_count": 2,
   "metadata": {
    "collapsed": true
   },
   "outputs": [],
   "source": [
    "# Import matplotlib package to plot figures\n",
    "import matplotlib.pyplot as plt"
   ]
  },
  {
   "cell_type": "code",
   "execution_count": 3,
   "metadata": {
    "collapsed": false
   },
   "outputs": [],
   "source": [
    "# Import seaborn package to make figrures look better\n",
    "import seaborn as sns"
   ]
  },
  {
   "cell_type": "code",
   "execution_count": 4,
   "metadata": {
    "collapsed": true
   },
   "outputs": [],
   "source": [
    "# Import pandas package to store and manipulate data\n",
    "import pandas as pd"
   ]
  },
  {
   "cell_type": "code",
   "execution_count": 5,
   "metadata": {
    "collapsed": true
   },
   "outputs": [],
   "source": [
    "# Import numpy and scipy packages to do scientific analysis\n",
    "import numpy as np\n",
    "import scipy as sp\n",
    "import scipy.stats"
   ]
  },
  {
   "cell_type": "code",
   "execution_count": 6,
   "metadata": {
    "collapsed": true
   },
   "outputs": [],
   "source": [
    "# Import csv package to convert pandas dataframe to csv file\n",
    "import csv"
   ]
  },
  {
   "cell_type": "code",
   "execution_count": 7,
   "metadata": {
    "collapsed": true
   },
   "outputs": [],
   "source": [
    "# Import chain package to do iteration \n",
    "from itertools import chain"
   ]
  },
  {
   "cell_type": "code",
   "execution_count": 8,
   "metadata": {
    "collapsed": true
   },
   "outputs": [],
   "source": [
    "# Import Counter package to do counting\n",
    "from collections import Counter, defaultdict"
   ]
  },
  {
   "cell_type": "code",
   "execution_count": 9,
   "metadata": {
    "collapsed": true
   },
   "outputs": [],
   "source": [
    "# Import operator package to sort a dictionary by its values\n",
    "import operator"
   ]
  },
  {
   "cell_type": "code",
   "execution_count": 10,
   "metadata": {
    "collapsed": true
   },
   "outputs": [],
   "source": [
    "# Import re package to implement regular expression\n",
    "import re"
   ]
  },
  {
   "cell_type": "code",
   "execution_count": 11,
   "metadata": {
    "collapsed": true
   },
   "outputs": [],
   "source": [
    "# Import timer\n",
    "import time"
   ]
  },
  {
   "cell_type": "code",
   "execution_count": 12,
   "metadata": {
    "collapsed": false
   },
   "outputs": [],
   "source": [
    "# Import topic model packages\n",
    "from sklearn.feature_extraction.text import CountVectorizer\n",
    "from gensim.models import ldamodel;\n",
    "from gensim import matutils;"
   ]
  },
  {
   "cell_type": "code",
   "execution_count": 13,
   "metadata": {
    "collapsed": true
   },
   "outputs": [],
   "source": [
    "# Import NLTK package\n",
    "from nltk import sent_tokenize,word_tokenize,porter\n",
    "from nltk import PorterStemmer\n",
    "from nltk.corpus import stopwords"
   ]
  },
  {
   "cell_type": "markdown",
   "metadata": {},
   "source": [
    "**----------------------------------------------------------------------------------------------------------------------------**"
   ]
  },
  {
   "cell_type": "markdown",
   "metadata": {},
   "source": [
    "### Part 2: Import Data"
   ]
  },
  {
   "cell_type": "markdown",
   "metadata": {},
   "source": [
    "**2.1 Retain Chinese restaurants in Las Vegas in 2014**"
   ]
  },
  {
   "cell_type": "code",
   "execution_count": 14,
   "metadata": {
    "collapsed": true
   },
   "outputs": [],
   "source": [
    "RB = pd.read_csv('demo_data_business.csv')"
   ]
  },
  {
   "cell_type": "code",
   "execution_count": 15,
   "metadata": {
    "collapsed": false
   },
   "outputs": [
    {
     "data": {
      "text/plain": [
       "array(['Unnamed: 0', 'business_id', 'price_range'], dtype=object)"
      ]
     },
     "execution_count": 15,
     "metadata": {},
     "output_type": "execute_result"
    }
   ],
   "source": [
    "RB.columns.values"
   ]
  },
  {
   "cell_type": "code",
   "execution_count": 16,
   "metadata": {
    "collapsed": true
   },
   "outputs": [],
   "source": [
    "RB=RB[['business_id','price_range']]"
   ]
  },
  {
   "cell_type": "markdown",
   "metadata": {},
   "source": [
    "**2.2 Retain all Chinese restaurant reviews in Las Vegas in 2014**"
   ]
  },
  {
   "cell_type": "code",
   "execution_count": 17,
   "metadata": {
    "collapsed": true
   },
   "outputs": [],
   "source": [
    "review = pd.read_csv('demo_data_review.csv')"
   ]
  },
  {
   "cell_type": "code",
   "execution_count": 18,
   "metadata": {
    "collapsed": false
   },
   "outputs": [
    {
     "data": {
      "text/plain": [
       "array(['Unnamed: 0', 'review_id', 'business_id', 'text', 'stars'], dtype=object)"
      ]
     },
     "execution_count": 18,
     "metadata": {},
     "output_type": "execute_result"
    }
   ],
   "source": [
    "review.columns.values"
   ]
  },
  {
   "cell_type": "code",
   "execution_count": 19,
   "metadata": {
    "collapsed": true
   },
   "outputs": [],
   "source": [
    "review=review[['review_id','business_id','text','stars']]"
   ]
  },
  {
   "cell_type": "markdown",
   "metadata": {},
   "source": [
    "**2.3 Display the total number of Chinese restaurants and corresponding reviews in 2014**"
   ]
  },
  {
   "cell_type": "code",
   "execution_count": 20,
   "metadata": {
    "collapsed": false
   },
   "outputs": [
    {
     "name": "stdout",
     "output_type": "stream",
     "text": [
      "Total number of Chinese restaurants in 2014: 213\n",
      "Total number of Chinese restaurants reviews in 2014: 5213\n"
     ]
    }
   ],
   "source": [
    "print \"Total number of Chinese restaurants in 2014:\", len(RB)\n",
    "print \"Total number of Chinese restaurants reviews in 2014:\", len(review)"
   ]
  },
  {
   "cell_type": "markdown",
   "metadata": {},
   "source": [
    "### Part 3: Is it a good idea to start a Chinese restaurant in Las Vegas?"
   ]
  },
  {
   "cell_type": "markdown",
   "metadata": {},
   "source": [
    "<img src=\"pic\\goodidea.png\"   style=\"width: 500px;\"/>"
   ]
  },
  {
   "cell_type": "markdown",
   "metadata": {},
   "source": [
    "* There are 213 Chinese restaurants (among top 5 restaurant categories: 513 fast food restaurants, 354 Mexican restaurants, 344 pizza restaurants, 273 traditional American restaurants ) in Las Vegas in 2014, indicating that Chinese restaurants are very popular in Las Vegas.\n",
    "\n",
    "\n",
    "* In this part, you will see that even though they are popular, the rating of Chinese restaurants is not good. Only 6.1% of them receive 4.5 or higher rating and most of them are less expensive restaurants."
   ]
  },
  {
   "cell_type": "markdown",
   "metadata": {},
   "source": [
    "**3.1 Calculate the average rating for each Chinese restaurant**"
   ]
  },
  {
   "cell_type": "code",
   "execution_count": 35,
   "metadata": {
    "collapsed": false
   },
   "outputs": [],
   "source": [
    "averagerating=review.groupby(['business_id'])['stars'].mean().to_frame(name='average_rating').reset_index()"
   ]
  },
  {
   "cell_type": "markdown",
   "metadata": {},
   "source": [
    "**3.1.1 Descriptive analysis**"
   ]
  },
  {
   "cell_type": "code",
   "execution_count": 36,
   "metadata": {
    "collapsed": false
   },
   "outputs": [
    {
     "data": {
      "text/html": [
       "<div>\n",
       "<table border=\"1\" class=\"dataframe\">\n",
       "  <thead>\n",
       "    <tr style=\"text-align: right;\">\n",
       "      <th></th>\n",
       "      <th>average_rating</th>\n",
       "    </tr>\n",
       "  </thead>\n",
       "  <tbody>\n",
       "    <tr>\n",
       "      <th>count</th>\n",
       "      <td>213.000000</td>\n",
       "    </tr>\n",
       "    <tr>\n",
       "      <th>mean</th>\n",
       "      <td>3.249996</td>\n",
       "    </tr>\n",
       "    <tr>\n",
       "      <th>std</th>\n",
       "      <td>0.837472</td>\n",
       "    </tr>\n",
       "    <tr>\n",
       "      <th>min</th>\n",
       "      <td>1.000000</td>\n",
       "    </tr>\n",
       "    <tr>\n",
       "      <th>25%</th>\n",
       "      <td>2.750000</td>\n",
       "    </tr>\n",
       "    <tr>\n",
       "      <th>50%</th>\n",
       "      <td>3.388889</td>\n",
       "    </tr>\n",
       "    <tr>\n",
       "      <th>75%</th>\n",
       "      <td>3.782609</td>\n",
       "    </tr>\n",
       "    <tr>\n",
       "      <th>max</th>\n",
       "      <td>5.000000</td>\n",
       "    </tr>\n",
       "  </tbody>\n",
       "</table>\n",
       "</div>"
      ],
      "text/plain": [
       "       average_rating\n",
       "count      213.000000\n",
       "mean         3.249996\n",
       "std          0.837472\n",
       "min          1.000000\n",
       "25%          2.750000\n",
       "50%          3.388889\n",
       "75%          3.782609\n",
       "max          5.000000"
      ]
     },
     "execution_count": 36,
     "metadata": {},
     "output_type": "execute_result"
    }
   ],
   "source": [
    "averagerating.describe()"
   ]
  },
  {
   "cell_type": "markdown",
   "metadata": {},
   "source": [
    "**3.1.2 Show Chinese restaurant rating distribution**"
   ]
  },
  {
   "cell_type": "code",
   "execution_count": 37,
   "metadata": {
    "collapsed": false
   },
   "outputs": [
    {
     "data": {
      "image/png": "[encoded data removed]",
      "text/plain": [
       "<matplotlib.figure.Figure at 0x10a8e0610>"
      ]
     },
     "metadata": {},
     "output_type": "display_data"
    }
   ],
   "source": [
    "fig, ax = plt.subplots()\n",
    "rects = ax.hist(averagerating['average_rating'],bins=20,alpha=0.5)\n",
    "ax.set_ylabel('Number of Restaurant')\n",
    "ax.set_xlabel('Restaurant Average Stars')\n",
    "ax.set_title('Chinese Restaurant Rating Distribution in Las Vegas in 2014 ')\n",
    "ax.set_xticks([0,0.5,1,1.5,2,2.5,3,3.5,4,4.5,5])\n",
    "ax.set_xticklabels( ('0','0.5', '1', '1.5', '2', '2.5','3','3.5','4','4.5','5') )\n",
    "plt.show()"
   ]
  },
  {
   "cell_type": "markdown",
   "metadata": {},
   "source": [
    "**3.1.3 Number and percentage of Chinese restaurants whose ratings are greater than or equal to 4.5**"
   ]
  },
  {
   "cell_type": "code",
   "execution_count": 38,
   "metadata": {
    "collapsed": false
   },
   "outputs": [
    {
     "name": "stdout",
     "output_type": "stream",
     "text": [
      "# restaurants (rating>=4.5):  13\n"
     ]
    }
   ],
   "source": [
    "print '# restaurants (rating>=4.5): ', len(averagerating[averagerating['average_rating']>=4.5])"
   ]
  },
  {
   "cell_type": "code",
   "execution_count": 39,
   "metadata": {
    "collapsed": false
   },
   "outputs": [
    {
     "name": "stdout",
     "output_type": "stream",
     "text": [
      "% restaurants (rating>=4.5):  6.10328638498\n"
     ]
    }
   ],
   "source": [
    "print '% restaurants (rating>=4.5): ', 100.0*len(averagerating[averagerating['average_rating']>=4.5])/len(averagerating)"
   ]
  },
  {
   "cell_type": "markdown",
   "metadata": {},
   "source": [
    "**3.2 Merge averagerating dataframe with RB dataframe**"
   ]
  },
  {
   "cell_type": "code",
   "execution_count": 40,
   "metadata": {
    "collapsed": true
   },
   "outputs": [],
   "source": [
    "merged_inner_RB_averagerating = pd.merge(left=averagerating,right=RB, left_on='business_id', right_on='business_id')"
   ]
  },
  {
   "cell_type": "markdown",
   "metadata": {},
   "source": [
    "**3.3 Rating-price scatterplot**"
   ]
  },
  {
   "cell_type": "code",
   "execution_count": 41,
   "metadata": {
    "collapsed": false
   },
   "outputs": [
    {
     "name": "stdout",
     "output_type": "stream",
     "text": [
      "Instructor Note: No worry if you get any warning. Because \"Restaurant Price Range\" is a discrete variable:)\n"
     ]
    },
    {
     "name": "stderr",
     "output_type": "stream",
     "text": [
      "/Users/zhitaoyin/anaconda/lib/python2.7/site-packages/matplotlib/collections.py:590: FutureWarning: elementwise comparison failed; returning scalar instead, but in the future will perform elementwise comparison\n",
      "  if self._edgecolors == str('face'):\n"
     ]
    },
    {
     "data": {
      "image/png": "[encoded data removed]",
      "text/plain": [
       "<matplotlib.figure.Figure at 0x10d1cd5d0>"
      ]
     },
     "metadata": {},
     "output_type": "display_data"
    }
   ],
   "source": [
    "# Note: No worry if you see any warning. \"Restaurant Price Range\" is a discrete variable.\n",
    "fig, ax = plt.subplots()\n",
    "rects = ax.scatter(merged_inner_RB_averagerating['average_rating'],merged_inner_RB_averagerating['price_range'])\n",
    "ax.set_ylabel('Restaurant Price Range')\n",
    "ax.set_xlabel('Restaurant Average Rating')\n",
    "ax.set_title('Rating-Price Scatterplot (Chinese Restaurant in Las Vegas in 2014) ')\n",
    "ax.set_xticks([0,0.5,1,1.5,2,2.5,3,3.5,4,4.5,5])\n",
    "ax.set_xticklabels( ('0','0.5', '1', '1.5', '2', '2.5','3','3.5','4','4.5','5') )\n",
    "ax.set_yticks([1,2,3,4])\n",
    "ax.set_yticklabels( ('\\$','\\$\\$','\\$\\$\\$', '\\$\\$\\$\\$') )\n",
    "ax.axis([0, 5.2, 0.5, 4.5])\n",
    "plt.show()"
   ]
  },
  {
   "cell_type": "markdown",
   "metadata": {},
   "source": [
    "**Key takeaways:**"
   ]
  },
  {
   "cell_type": "markdown",
   "metadata": {},
   "source": [
    "* Do not rush to do advanced analysis when you get a dataset.\n",
    "\n",
    "* Do exploratory analysis and use well-designed figures to make sense of data and find interesting questions."
   ]
  },
  {
   "cell_type": "markdown",
   "metadata": {},
   "source": [
    "**----------------------------------------------------------------------------------------------------------------------------**"
   ]
  },
  {
   "cell_type": "markdown",
   "metadata": {},
   "source": [
    "### **Part 4: Lexicon-based Word Counting**\n",
    "\n",
    "<img src=\"pic\\word_counting.png\"   style=\"width: 700px;\"/>\n",
    "\n",
    "\n",
    "**What is the average customer’s attitude toward Chinese restaurants?**\n",
    "\n",
    "\n",
    "In this part, we will use [General Inquirer](http://www.wjh.harvard.edu/~inquirer/), a free dictionary, to analyze review sentiment.\n",
    "\n",
    "* **Knowledge Point**: General Inquirer is good for you to learn text mining. However, you may also want to check [LIWC](http://liwc.wpengine.com/), a more nuanced and up-to-date dictionary, when you do research for academic or professional purpose."
   ]
  },
  {
   "cell_type": "markdown",
   "metadata": {},
   "source": [
    "<img src=\"pic\\GI_dict_snapshot.png\"   style=\"width: 300px;\"/>"
   ]
  },
  {
   "cell_type": "markdown",
   "metadata": {},
   "source": [
    "**4.1 Import positive and negative words from General Inquirer**"
   ]
  },
  {
   "cell_type": "code",
   "execution_count": 42,
   "metadata": {
    "collapsed": false
   },
   "outputs": [],
   "source": [
    "# Import positive and negative words from General Inquirer\n",
    "positive=[]\n",
    "negative=[]\n",
    "keys_to_ignore = ['Entry','Source','Defined']\n",
    "with open('general_inquirer_dict.txt') as fin:\n",
    "    reader = csv.DictReader(fin,delimiter='\\t')\n",
    "    for i,line in enumerate(reader):\n",
    "        if line['Negativ']=='Negativ':\n",
    "            if line['Entry'].find('#')==-1:\n",
    "                negative.append(line['Entry'].lower())\n",
    "            if line['Entry'].find('#')!=-1: #In General Inquirer, some words have multiple senses. Combine all tags for all senses.\n",
    "                negative.append(line['Entry'].lower()[:line['Entry'].index('#')]) \n",
    "        if line['Positiv']=='Positiv':\n",
    "            if line['Entry'].find('#')==-1:\n",
    "                positive.append(line['Entry'].lower())\n",
    "            if line['Entry'].find('#')!=-1: #In General Inquirer, some words have multiple senses. Combine all tags for all senses.\n",
    "                positive.append(line['Entry'].lower()[:line['Entry'].index('#')])\n",
    "\n",
    "pvocabulary=sorted(list(set(positive))) #In General Inquirer, some words have multiple senses. Combine all tags for all senses.\n",
    "nvocabulary=sorted(list(set(negative))) #In General Inquirer, some words have multiple senses. Combine all tags for all senses."
   ]
  },
  {
   "cell_type": "markdown",
   "metadata": {},
   "source": [
    "**4.2 Retrive all Chinese restaurant reviews in 2014 and store the reviews into a list**"
   ]
  },
  {
   "cell_type": "code",
   "execution_count": 43,
   "metadata": {
    "collapsed": true
   },
   "outputs": [],
   "source": [
    "reviewtext = []\n",
    "for text in review['text']:\n",
    "    reviewtext.append(text)"
   ]
  },
  {
   "cell_type": "markdown",
   "metadata": {},
   "source": [
    "**4.3 Word Counting Function**\n",
    "\n",
    "* **Knowledge Point: ** Tokenization is the first step to do text analysis. After tokenization, text is split into a list of individual words. For example, ** *Everything was great in the restaurant, but there is one thing they might want to reconsider.* ** will be split into ** *| Everything | was | great | in | the | restaurant | , | but | there | is | one | thing | they | might | want | to | reconsider |.* **"
   ]
  },
  {
   "cell_type": "code",
   "execution_count": 44,
   "metadata": {
    "collapsed": true
   },
   "outputs": [],
   "source": [
    "# Word frequency calculation function\n",
    "def getWordCounts(texts,word_proc = lambda x : x): # lambda function\n",
    "    word_counts = Counter()\n",
    "    for text in texts:\n",
    "        for sent in sent_tokenize(text.decode('ISO-8859-1')):\n",
    "            for word in word_tokenize(sent):\n",
    "                word_counts[word_proc(word)] += 1\n",
    "    return word_counts"
   ]
  },
  {
   "cell_type": "markdown",
   "metadata": {},
   "source": [
    "**4.4 Word counting for all Chinese restaurant reviews in 2014**\n",
    "\n",
    "* **Knowledge Point: ** we need to lowercase all words as well."
   ]
  },
  {
   "cell_type": "code",
   "execution_count": 45,
   "metadata": {
    "collapsed": true
   },
   "outputs": [],
   "source": [
    "vocabulary=getWordCounts(reviewtext,lambda x: x.lower())"
   ]
  },
  {
   "cell_type": "markdown",
   "metadata": {},
   "source": [
    "** 4.5 Count positive and negative word frequency in all Chinese restaurant reviews in 2014**"
   ]
  },
  {
   "cell_type": "code",
   "execution_count": 46,
   "metadata": {
    "collapsed": true
   },
   "outputs": [],
   "source": [
    "pndict=dict()\n",
    "pndict['Positive']=Counter()\n",
    "pndict['Negative']=Counter()\n",
    "for pword in pvocabulary:\n",
    "        for ptext in vocabulary:\n",
    "            if pword==ptext:\n",
    "                pndict['Positive'][pword]=vocabulary[pword]\n",
    "for nword in nvocabulary:\n",
    "        for ntext in vocabulary:\n",
    "            if nword==ntext:\n",
    "                pndict['Negative'][nword]=vocabulary[nword]"
   ]
  },
  {
   "cell_type": "markdown",
   "metadata": {},
   "source": [
    "** 4.6 Retain the top 500 positive and negative words frequence**"
   ]
  },
  {
   "cell_type": "code",
   "execution_count": 47,
   "metadata": {
    "collapsed": false
   },
   "outputs": [],
   "source": [
    "positive500 = sorted( pndict['Positive'].items(), key=operator.itemgetter(1), reverse=True)[:500]\n",
    "negative500 = sorted( pndict['Negative'].items(), key=operator.itemgetter(1), reverse=True)[:500]\n",
    "positivesum=0\n",
    "negativesum=0\n",
    "for i in range(500):\n",
    "    positivesum += positive500[i][1]\n",
    "    negativesum += negative500[i][1]"
   ]
  },
  {
   "cell_type": "markdown",
   "metadata": {},
   "source": [
    "**4.7 Display positive-negative words ratio**"
   ]
  },
  {
   "cell_type": "code",
   "execution_count": 48,
   "metadata": {
    "collapsed": false
   },
   "outputs": [
    {
     "name": "stdout",
     "output_type": "stream",
     "text": [
      "Positive-negative words ratio = 1.56569143338\n"
     ]
    }
   ],
   "source": [
    "print \"Positive-negative words ratio =\", 1.0*positivesum/negativesum"
   ]
  },
  {
   "cell_type": "markdown",
   "metadata": {},
   "source": [
    "** What is your take from the analysis in this part?**\n",
    "\n",
    "* Chinese Restaurant review has a strong bias toward positivity in language in Las Vegas  in 2014. As such, we should see more restaurants with higher ratings.\n",
    "\n",
    "\n",
    "* However, the average restaurant rating is not as what we expected, indicating that positive-negative sentiment is not a good indicator for restaurant rating. So we need to discover other predictors that could help us explain restaurant rating."
   ]
  },
  {
   "cell_type": "markdown",
   "metadata": {},
   "source": [
    "**Key takeaways:**\n",
    "\n",
    "* What are your interested words? Why are those words important?\n",
    "* A dictionary\n",
    "* Tokenization\n",
    "* Lowercase\n",
    "\n",
    "<img src=\"pic\\word_counting_takeaway.png\"   style=\"width: 700px;\"/>"
   ]
  },
  {
   "cell_type": "markdown",
   "metadata": {},
   "source": [
    "**Exercise 1:**\n",
    "\n",
    "**I will invite one group to present their results. Please post them [here](https://docs.google.com/presentation/d/16M33icdjqbJ3jxl9X5LYcKqKSTTRTQZXXWhtPKFBMQI/edit#slide=id.ge4585dd65_1_155)**\n",
    "\n",
    "* Import the hospital review dataset into you iPython notebook\n",
    "* Do you find any interesting questions? How do you find it? \n",
    "* Explain why your question is interesting. Well-designed figures are highly recommended.\n",
    "* Are hospital's reviews positively bias as well?"
   ]
  },
  {
   "cell_type": "markdown",
   "metadata": {
    "collapsed": true
   },
   "source": [
    "**----------------------------------------------------------------------------------------------------------------------------**"
   ]
  },
  {
   "cell_type": "markdown",
   "metadata": {},
   "source": [
    "### **Part 5: Algorithm-based Word Counting**\n",
    "<img src=\"pic\\word_counting2.png\"   style=\"width: 750px;\"/>\n",
    "\n",
    "**What are the most commonly used words in negative Chinese restaurant reviews?**"
   ]
  },
  {
   "cell_type": "markdown",
   "metadata": {},
   "source": [
    "** 5.1 Top 50 words that **\n",
    "* differentiate one-star reviews from five-star reviews\n",
    "* are associated with one-star reviews"
   ]
  },
  {
   "cell_type": "markdown",
   "metadata": {},
   "source": [
    "<img src=\"pic\\log_odds_ratio5.png\"   style=\"width: 750px;\"/>\n",
    "\n",
    "**Intuition:**\n",
    "\n",
    "<img src=\"pic\\log_odds_ratio4.png\"   style=\"width: 500px;\"/>\n",
    "\n",
    "<img src=\"pic\\log_odds_ratio3.png\"   style=\"width: 500px;\"/>\n",
    "\n",
    "Click [here](http://pan.oxfordjournals.org/content/16/4/372.full.pdf+html) to see details about log-odds ratios."
   ]
  },
  {
   "cell_type": "markdown",
   "metadata": {},
   "source": [
    "**5.1.1 Retain one-star review **"
   ]
  },
  {
   "cell_type": "code",
   "execution_count": 49,
   "metadata": {
    "collapsed": true
   },
   "outputs": [],
   "source": [
    "reviewonestar=review[review['stars']==1]"
   ]
  },
  {
   "cell_type": "markdown",
   "metadata": {},
   "source": [
    "**5.1.2 Retain five-star review **"
   ]
  },
  {
   "cell_type": "code",
   "execution_count": 50,
   "metadata": {
    "collapsed": true
   },
   "outputs": [],
   "source": [
    "reviewfivestar=review[review['stars']==5]"
   ]
  },
  {
   "cell_type": "markdown",
   "metadata": {},
   "source": [
    "**5.1.3 Retrive one-star review text**"
   ]
  },
  {
   "cell_type": "code",
   "execution_count": 51,
   "metadata": {
    "collapsed": true
   },
   "outputs": [],
   "source": [
    "reviewtextonestar = []\n",
    "for text in reviewonestar['text']:\n",
    "    reviewtextonestar.append(text)"
   ]
  },
  {
   "cell_type": "markdown",
   "metadata": {},
   "source": [
    "** 5.1.4 Retrive five-star review text**"
   ]
  },
  {
   "cell_type": "code",
   "execution_count": 52,
   "metadata": {
    "collapsed": true
   },
   "outputs": [],
   "source": [
    "reviewtextfivestar = []\n",
    "for text in reviewfivestar['text']:\n",
    "    reviewtextfivestar.append(text)"
   ]
  },
  {
   "cell_type": "markdown",
   "metadata": {},
   "source": [
    "** 5.1.5 Create one-star vocabulary**"
   ]
  },
  {
   "cell_type": "code",
   "execution_count": 53,
   "metadata": {
    "collapsed": true
   },
   "outputs": [],
   "source": [
    "vocabularyonestar=getWordCounts(reviewtextonestar,lambda x: x.lower())"
   ]
  },
  {
   "cell_type": "markdown",
   "metadata": {},
   "source": [
    "** 5.1.6 Create five-star vocabulary**"
   ]
  },
  {
   "cell_type": "code",
   "execution_count": 54,
   "metadata": {
    "collapsed": true
   },
   "outputs": [],
   "source": [
    "vocabularyfivestar=getWordCounts(reviewtextfivestar,lambda x: x.lower())"
   ]
  },
  {
   "cell_type": "markdown",
   "metadata": {},
   "source": [
    "** 5.1.7 Identify words that are**\n",
    "* shared by one and five-star reviews\n",
    "* unique to one-star reviews\n",
    "* unique to five-star reviews"
   ]
  },
  {
   "cell_type": "code",
   "execution_count": 55,
   "metadata": {
    "collapsed": true
   },
   "outputs": [],
   "source": [
    "onestarkeylist=list(vocabularyonestar.keys())\n",
    "fivestarkeylist=list(vocabularyfivestar.keys())\n",
    "onefivestarkeylist=list(set(onestarkeylist) | set(fivestarkeylist))\n",
    "onestaruniquekeylist=list(set(onefivestarkeylist)-set(fivestarkeylist))\n",
    "fivestaruniquekeylist=list(set(onefivestarkeylist)-set(onestarkeylist))"
   ]
  },
  {
   "cell_type": "code",
   "execution_count": 56,
   "metadata": {
    "collapsed": true
   },
   "outputs": [],
   "source": [
    "onestardict=dict()\n",
    "fivestardict=dict()\n",
    "\n",
    "for key in onestarkeylist:\n",
    "    onestardict[key]=vocabularyonestar[key]\n",
    "for key in fivestaruniquekeylist:\n",
    "    onestardict[key]=0\n",
    "for key in fivestarkeylist:\n",
    "    fivestardict[key]=vocabularyfivestar[key]\n",
    "for key in onestaruniquekeylist:\n",
    "    fivestardict[key]=0"
   ]
  },
  {
   "cell_type": "markdown",
   "metadata": {},
   "source": [
    "**5.1.8 Set $\\alpha$ value**\n",
    "\n",
    "We don't have prior information about $\\alpha (w)=0.01$. So we follow [Monroe et al (2008)](http://pan.oxfordjournals.org/content/16/4/372.full.pdf+html) and assume $\\alpha (w)=0.01$"
   ]
  },
  {
   "cell_type": "code",
   "execution_count": 121,
   "metadata": {
    "collapsed": true
   },
   "outputs": [],
   "source": [
    "alpha=dict()\n",
    "for key in vocabulary:\n",
    "    alpha[key]=0.01   \n",
    "totalaplha=sum(alpha.values())"
   ]
  },
  {
   "cell_type": "markdown",
   "metadata": {},
   "source": [
    "** 5.1.9 Calculate z-score**"
   ]
  },
  {
   "cell_type": "code",
   "execution_count": 122,
   "metadata": {
    "collapsed": true
   },
   "outputs": [],
   "source": [
    "zscore=Counter()\n",
    "onestarsum=sum(onestardict.values())\n",
    "fivestarsum=sum(fivestardict.values())\n",
    "for key in onefivestarkeylist:\n",
    "    a=log((onestardict[key]+alpha[key])/(onestarsum+totalaplha-(onestardict[key]+alpha[key])))\n",
    "    b=log((fivestardict[key]+alpha[key])/(fivestarsum+totalaplha-(fivestardict[key]+alpha[key])))\n",
    "    diff=a-b\n",
    "    stddev=sqrt((1.0/(onestardict[key]+alpha[key]))+(1.0/(fivestardict[key]+alpha[key])))\n",
    "    zscore[key]=1.0*diff/stddev"
   ]
  },
  {
   "cell_type": "markdown",
   "metadata": {},
   "source": [
    "** 5.1.10 List top 50 words by z-score**"
   ]
  },
  {
   "cell_type": "code",
   "execution_count": 123,
   "metadata": {
    "collapsed": false
   },
   "outputs": [
    {
     "data": {
      "text/plain": [
       "[(u'not', 13.267083787717684),\n",
       " (u'no', 12.164246085298505),\n",
       " (u'bad', 11.591647333674686),\n",
       " (u'?', 11.276368026631282),\n",
       " (u'to', 11.065540494103457),\n",
       " (u'did', 10.177962838933233),\n",
       " (u\"n't\", 9.737207192979568),\n",
       " (u'us', 9.7230784638876848),\n",
       " (u'she', 9.2840433434795457),\n",
       " (u'said', 9.1267909844180597),\n",
       " (u'asked', 9.0670546494124409),\n",
       " (u'after', 8.8265000117495305),\n",
       " (u'never', 8.8101029382049862),\n",
       " (u'he', 8.7258819098126708),\n",
       " (u\"''\", 8.3121446071362293),\n",
       " (u'took', 8.2370750672596404),\n",
       " (u'told', 8.0985979273962663),\n",
       " (u'her', 7.8169667853978204),\n",
       " (u'``', 7.7713071692708509),\n",
       " (u'do', 7.7690581541242851),\n",
       " (u'horrible', 7.6740853621306462),\n",
       " (u'minutes', 7.5936144544800266),\n",
       " (u'order', 7.4679835224770548),\n",
       " (u'then', 7.3671733682179044),\n",
       " (u'even', 7.3160995450692363),\n",
       " (u'bland', 7.2740255248754515),\n",
       " (u'pay', 7.1424778733992538),\n",
       " (u'manager', 7.1339948622242089),\n",
       " (u'was', 7.0457916921321635),\n",
       " (u'money', 6.8680292669272793),\n",
       " (u'waiter', 6.8375437021110423),\n",
       " (u'again', 6.822766385221291),\n",
       " (u'we', 6.638524631768802),\n",
       " (u'came', 6.6256163482301549),\n",
       " (u'tip', 6.5398846399809019),\n",
       " (u'over', 6.5335808155069888),\n",
       " (u'him', 6.4584925614146584),\n",
       " (u'waited', 6.3639515168561207),\n",
       " (u'called', 6.3594580495759745),\n",
       " (u'table', 6.2629631777376638),\n",
       " (u'they', 6.1775676734522618),\n",
       " (u'our', 6.1318210114907998),\n",
       " (u'water', 5.9441221769480039),\n",
       " (u'bill', 5.91214240258111),\n",
       " (u'customer', 5.9099175115902369),\n",
       " (u'before', 5.8519001991547164),\n",
       " (u'looked', 5.8427312304879884),\n",
       " (u'check', 5.8356416485931266),\n",
       " (u'rude', 5.7981240024303986),\n",
       " (u'terrible', 5.701458177955506)]"
      ]
     },
     "execution_count": 123,
     "metadata": {},
     "output_type": "execute_result"
    }
   ],
   "source": [
    "zscore.most_common(50)"
   ]
  },
  {
   "cell_type": "markdown",
   "metadata": {},
   "source": [
    "** What is your take from the word list?**\n",
    "\n",
    "* Stop words\n",
    "\n",
    "* Punctuation\n"
   ]
  },
  {
   "cell_type": "markdown",
   "metadata": {},
   "source": [
    "**5.1.11 Remove stopwords**"
   ]
  },
  {
   "cell_type": "markdown",
   "metadata": {},
   "source": [
    "**Knowledge Point: NLTK package contains a list of stopwords. So you don't have to reinvent the wheel. Click [here](http://www.nltk.org/book/ch02.html) for more information.**"
   ]
  },
  {
   "cell_type": "code",
   "execution_count": 124,
   "metadata": {
    "collapsed": false
   },
   "outputs": [],
   "source": [
    "def remove_stopwords(counter_name):\n",
    "    zscore_no_stopwords=Counter()    \n",
    "    stopwordlist = stopwords.words('english')\n",
    "    for key in counter_name.keys():\n",
    "        if key not in stopwordlist:\n",
    "            zscore_no_stopwords[key]=counter_name[key]\n",
    "    return zscore_no_stopwords"
   ]
  },
  {
   "cell_type": "code",
   "execution_count": 125,
   "metadata": {
    "collapsed": false
   },
   "outputs": [
    {
     "data": {
      "text/plain": [
       "[(u'bad', 11.591647333674686),\n",
       " (u'?', 11.276368026631282),\n",
       " (u\"n't\", 9.737207192979568),\n",
       " (u'us', 9.7230784638876848),\n",
       " (u'said', 9.1267909844180597),\n",
       " (u'asked', 9.0670546494124409),\n",
       " (u'never', 8.8101029382049862),\n",
       " (u\"''\", 8.3121446071362293),\n",
       " (u'took', 8.2370750672596404),\n",
       " (u'told', 8.0985979273962663),\n",
       " (u'``', 7.7713071692708509),\n",
       " (u'horrible', 7.6740853621306462),\n",
       " (u'minutes', 7.5936144544800266),\n",
       " (u'order', 7.4679835224770548),\n",
       " (u'even', 7.3160995450692363),\n",
       " (u'bland', 7.2740255248754515),\n",
       " (u'pay', 7.1424778733992538),\n",
       " (u'manager', 7.1339948622242089),\n",
       " (u'money', 6.8680292669272793),\n",
       " (u'waiter', 6.8375437021110423),\n",
       " (u'came', 6.6256163482301549),\n",
       " (u'tip', 6.5398846399809019),\n",
       " (u'waited', 6.3639515168561207),\n",
       " (u'called', 6.3594580495759745),\n",
       " (u'table', 6.2629631777376638),\n",
       " (u'water', 5.9441221769480039),\n",
       " (u'bill', 5.91214240258111),\n",
       " (u'customer', 5.9099175115902369),\n",
       " (u'looked', 5.8427312304879884),\n",
       " (u'check', 5.8356416485931266),\n",
       " (u'rude', 5.7981240024303986),\n",
       " (u'terrible', 5.701458177955506),\n",
       " (u'would', 5.5887800770802158),\n",
       " (u'card', 5.4117271898316419),\n",
       " (u'waiting', 5.3746434745109646),\n",
       " (u'15', 5.3587383842404641),\n",
       " (u'dirty', 5.3438765464251929),\n",
       " (u'mins', 5.2830859568944293),\n",
       " (u'someone', 5.1974071588803836),\n",
       " (u'awful', 5.1825658592326187),\n",
       " (u'ok', 5.1698015582216374),\n",
       " (u'charge', 5.1593472733082653),\n",
       " (u'left', 5.1162207661532539),\n",
       " (u'waste', 5.1069804126818381),\n",
       " (u'waitress', 5.0648551595412181),\n",
       " (u'guess', 5.0252516126938458),\n",
       " (u'barely', 4.9904668803933516),\n",
       " (u'give', 4.9102148893303008),\n",
       " (u'poor', 4.8550100817533641),\n",
       " (u'finally', 4.8022865305481375)]"
      ]
     },
     "execution_count": 125,
     "metadata": {},
     "output_type": "execute_result"
    }
   ],
   "source": [
    "remove_stopwords(zscore).most_common(50)"
   ]
  },
  {
   "cell_type": "markdown",
   "metadata": {},
   "source": [
    "** 5.1.12 Remove punctuation**\n",
    "\n",
    "**Knowledge Point: Regular expression is very important for text analysis. [Here](http://www.rexegg.com/regex-quickstart.html) is a cheat sheet of regular expression.**"
   ]
  },
  {
   "cell_type": "code",
   "execution_count": 126,
   "metadata": {
    "collapsed": false
   },
   "outputs": [],
   "source": [
    "def remove_punctuation(counter_name):\n",
    "    zscore_no_punctuation=Counter()\n",
    "    for key in counter_name.keys():\n",
    "        if re.search('[a-z]+',key):\n",
    "            zscore_no_punctuation[key]=counter_name[key]\n",
    "    return zscore_no_punctuation"
   ]
  },
  {
   "cell_type": "code",
   "execution_count": 127,
   "metadata": {
    "collapsed": false
   },
   "outputs": [
    {
     "data": {
      "text/plain": [
       "[(u'bad', 11.591647333674686),\n",
       " (u\"n't\", 9.737207192979568),\n",
       " (u'us', 9.7230784638876848),\n",
       " (u'said', 9.1267909844180597),\n",
       " (u'asked', 9.0670546494124409),\n",
       " (u'never', 8.8101029382049862),\n",
       " (u'took', 8.2370750672596404),\n",
       " (u'told', 8.0985979273962663),\n",
       " (u'horrible', 7.6740853621306462),\n",
       " (u'minutes', 7.5936144544800266),\n",
       " (u'order', 7.4679835224770548),\n",
       " (u'even', 7.3160995450692363),\n",
       " (u'bland', 7.2740255248754515),\n",
       " (u'pay', 7.1424778733992538),\n",
       " (u'manager', 7.1339948622242089),\n",
       " (u'money', 6.8680292669272793),\n",
       " (u'waiter', 6.8375437021110423),\n",
       " (u'came', 6.6256163482301549),\n",
       " (u'tip', 6.5398846399809019),\n",
       " (u'waited', 6.3639515168561207),\n",
       " (u'called', 6.3594580495759745),\n",
       " (u'table', 6.2629631777376638),\n",
       " (u'water', 5.9441221769480039),\n",
       " (u'bill', 5.91214240258111),\n",
       " (u'customer', 5.9099175115902369),\n",
       " (u'looked', 5.8427312304879884),\n",
       " (u'check', 5.8356416485931266),\n",
       " (u'rude', 5.7981240024303986),\n",
       " (u'terrible', 5.701458177955506),\n",
       " (u'would', 5.5887800770802158),\n",
       " (u'card', 5.4117271898316419),\n",
       " (u'waiting', 5.3746434745109646),\n",
       " (u'dirty', 5.3438765464251929),\n",
       " (u'mins', 5.2830859568944293),\n",
       " (u'someone', 5.1974071588803836),\n",
       " (u'awful', 5.1825658592326187),\n",
       " (u'ok', 5.1698015582216374),\n",
       " (u'charge', 5.1593472733082653),\n",
       " (u'left', 5.1162207661532539),\n",
       " (u'waste', 5.1069804126818381),\n",
       " (u'waitress', 5.0648551595412181),\n",
       " (u'guess', 5.0252516126938458),\n",
       " (u'barely', 4.9904668803933516),\n",
       " (u'give', 4.9102148893303008),\n",
       " (u'poor', 4.8550100817533641),\n",
       " (u'finally', 4.8022865305481375),\n",
       " (u'star', 4.7904403932671844),\n",
       " (u'later', 4.7692005393244212),\n",
       " (u'half', 4.7356700367217703),\n",
       " (u'gross', 4.7108775499542466)]"
      ]
     },
     "execution_count": 127,
     "metadata": {},
     "output_type": "execute_result"
    }
   ],
   "source": [
    "remove_punctuation(remove_stopwords(zscore)).most_common(50)"
   ]
  },
  {
   "cell_type": "markdown",
   "metadata": {},
   "source": [
    "**5.2 Relationship between top words and review rating**"
   ]
  },
  {
   "cell_type": "markdown",
   "metadata": {
    "collapsed": true
   },
   "source": [
    "** In this part, we will select two sets of words, negative emotion and service, from the top word list.**"
   ]
  },
  {
   "cell_type": "markdown",
   "metadata": {},
   "source": [
    "** 5.2.1 Word counting function** "
   ]
  },
  {
   "cell_type": "code",
   "execution_count": 64,
   "metadata": {
    "collapsed": true
   },
   "outputs": [],
   "source": [
    "def getWordCounts2(text,word_proc = lambda x : x): # lambda function\n",
    "    word_counts = Counter()\n",
    "    for sent in sent_tokenize(text.decode('ISO-8859-1')):\n",
    "         for word in word_tokenize(sent):\n",
    "                word_counts[word_proc(word)] += 1\n",
    "    return word_counts"
   ]
  },
  {
   "cell_type": "markdown",
   "metadata": {
    "collapsed": true
   },
   "source": [
    "**5.2.2 Negative emotion words counting**"
   ]
  },
  {
   "cell_type": "code",
   "execution_count": 65,
   "metadata": {
    "collapsed": false
   },
   "outputs": [
    {
     "name": "stdout",
     "output_type": "stream",
     "text": [
      "--- 10.4377379417 seconds ---\n"
     ]
    }
   ],
   "source": [
    "start_time = time.time()\n",
    "negativemotion=dict()\n",
    "negativemotionlib=['bad','never','horrible','rude','terrible','dirty','awful','waste','barely','gross']\n",
    "for i, text in enumerate(review['text']):\n",
    "    negativemotion[review.xs(review.index[i])[\"review_id\"]]=0\n",
    "    templib=getWordCounts2(text,lambda x: x.lower())    \n",
    "    for nega in templib:\n",
    "        for word in negativemotionlib:\n",
    "            if nega==word:\n",
    "                negativemotion[review.xs(review.index[i])[\"review_id\"]] += templib[nega]\n",
    "print(\"--- %s seconds ---\" % (time.time() - start_time))"
   ]
  },
  {
   "cell_type": "markdown",
   "metadata": {
    "collapsed": true
   },
   "source": [
    "**5.2.3 Add negativemotion to review table **"
   ]
  },
  {
   "cell_type": "code",
   "execution_count": 66,
   "metadata": {
    "collapsed": true
   },
   "outputs": [],
   "source": [
    "negdf=pd.DataFrame(negativemotion.items(),columns=['review_id','negativemotion'])\n",
    "review=pd.merge(review,negdf,on='review_id')\n",
    "review['lognegativemotion']=log(1+review['negativemotion'])"
   ]
  },
  {
   "cell_type": "markdown",
   "metadata": {
    "collapsed": true
   },
   "source": [
    "**5.2.4 Service words counting**"
   ]
  },
  {
   "cell_type": "code",
   "execution_count": 67,
   "metadata": {
    "collapsed": false
   },
   "outputs": [
    {
     "name": "stdout",
     "output_type": "stream",
     "text": [
      "--- 11.174973011 seconds ---\n"
     ]
    }
   ],
   "source": [
    "start_time = time.time()\n",
    "servicepersondict=dict()\n",
    "serviceersonlib=['manager', 'customer', 'mins', 'money', 'waitress', 'waiter', 'bill', 'water', 'table', 'charge', 'order', 'tip','check']\n",
    "for i, text in enumerate(review['text']):\n",
    "    servicepersondict[review.xs(review.index[i])[\"review_id\"]]=0\n",
    "    templib=getWordCounts2(text,lambda x: x.lower())    \n",
    "    for servicepreson in templib:\n",
    "        for word in serviceersonlib:\n",
    "            if servicepreson==word:\n",
    "                servicepersondict[review.xs(review.index[i])[\"review_id\"]] += templib[servicepreson]\n",
    "print(\"--- %s seconds ---\" % (time.time() - start_time))"
   ]
  },
  {
   "cell_type": "markdown",
   "metadata": {
    "collapsed": true
   },
   "source": [
    "**5.2.5 Add servic to review table **"
   ]
  },
  {
   "cell_type": "code",
   "execution_count": 68,
   "metadata": {
    "collapsed": true
   },
   "outputs": [],
   "source": [
    "servicepersondf=pd.DataFrame(servicepersondict.items(),columns=['review_id','serviceperson'])\n",
    "review=pd.merge(review,servicepersondf,on='review_id')\n",
    "review['logserviceperson']=log(1+review['serviceperson'])"
   ]
  },
  {
   "cell_type": "markdown",
   "metadata": {
    "collapsed": true
   },
   "source": [
    "**5.2.6 Show the relationship between negative emotion and review rating **"
   ]
  },
  {
   "cell_type": "code",
   "execution_count": 69,
   "metadata": {
    "collapsed": true
   },
   "outputs": [],
   "source": [
    "def mean_confidence_interval(data, confidence=0.95):\n",
    "    a = 1.0*np.array(data)\n",
    "    n = len(a)\n",
    "    m, se = np.mean(a), scipy.stats.sem(a)\n",
    "    h = se * sp.stats.t._ppf((1+confidence)/2., n-1)\n",
    "    return m, h"
   ]
  },
  {
   "cell_type": "code",
   "execution_count": 70,
   "metadata": {
    "collapsed": false
   },
   "outputs": [
    {
     "data": {
      "image/png": "[encoded data removed]",
      "text/plain": [
       "<matplotlib.figure.Figure at 0x10a8c3990>"
      ]
     },
     "metadata": {},
     "output_type": "display_data"
    }
   ],
   "source": [
    "negativemean=[]\n",
    "negativeerr=[]\n",
    "for i in range(5):\n",
    "    negativemean.append(mean_confidence_interval(review[review['stars']==i+1]['negativemotion'])[0])\n",
    "    negativeerr.append(mean_confidence_interval(review[review['stars']==i+1]['negativemotion'])[1])\n",
    "\n",
    "ind = np.arange(5) \n",
    "fig, ax = plt.subplots()\n",
    "rects = ax.bar(ind, negativemean, yerr=negativeerr, align='center', alpha=0.5)\n",
    "ax.set_ylabel('Words per Reviews')\n",
    "ax.set_title('Negative Emotion')\n",
    "ax.set_xticks([0,1,2,3,4])\n",
    "ax.set_xticklabels( ('*', '**', '***', '****', '*****'), size=20 )\n",
    "#ax.axis([1, 5, 0, 25000])\n",
    "plt.show()"
   ]
  },
  {
   "cell_type": "markdown",
   "metadata": {
    "collapsed": true
   },
   "source": [
    "**5.2.7 Show the relationship between service and review rating **"
   ]
  },
  {
   "cell_type": "code",
   "execution_count": 71,
   "metadata": {
    "collapsed": false
   },
   "outputs": [
    {
     "data": {
      "image/png": "[encoded data removed]",
      "text/plain": [
       "<matplotlib.figure.Figure at 0x10d93b610>"
      ]
     },
     "metadata": {},
     "output_type": "display_data"
    }
   ],
   "source": [
    "servicemean=[]\n",
    "serviceerr=[]\n",
    "for i in range(5):\n",
    "    servicemean.append(mean_confidence_interval(review[review['stars']==i+1]['serviceperson'])[0])\n",
    "    serviceerr.append(mean_confidence_interval(review[review['stars']==i+1]['serviceperson'])[1])\n",
    "\n",
    "ind = np.arange(5) \n",
    "fig, ax = plt.subplots()\n",
    "rects = ax.bar(ind, servicemean, yerr=serviceerr, align='center', alpha=0.5)\n",
    "ax.set_ylabel('Words per Reviews')\n",
    "ax.set_title('Service')\n",
    "ax.set_xticks([0,1,2,3,4])\n",
    "ax.set_xticklabels( ('*', '**', '***', '****', '*****'), size=20 )\n",
    "plt.show()"
   ]
  },
  {
   "cell_type": "markdown",
   "metadata": {},
   "source": [
    "** What is your take from the analysis in this part?**\n",
    "\n",
    "* The two word sets which were obtained from log odds ratio are good predicator of review rating."
   ]
  },
  {
   "cell_type": "markdown",
   "metadata": {},
   "source": [
    "**Key Takeaway:**\n",
    "<img src=\"pic\\word_counting3.png\"   style=\"width: 750px;\"/>"
   ]
  },
  {
   "cell_type": "markdown",
   "metadata": {},
   "source": [
    "**Exercise 2:**"
   ]
  },
  {
   "cell_type": "markdown",
   "metadata": {
    "collapsed": true
   },
   "source": [
    "**I will invite one group to present their results. Please post them [here](https://docs.google.com/presentation/d/16M33icdjqbJ3jxl9X5LYcKqKSTTRTQZXXWhtPKFBMQI/edit#slide=id.ge4585dd65_1_155)**\n",
    "\n",
    "* Import the hospital review dataset into you iPython notebook\n",
    "* What are the top words used in one-star hospital reviews? \n",
    "* Group the top words into some categories and choose one or two categories. What is the relationship between focal category and review rating?\n",
    "* Is the result consistent with what we found in restaurant reviews?"
   ]
  },
  {
   "cell_type": "markdown",
   "metadata": {},
   "source": [
    "**---------------------------------------------------------------------------------------------------------------------------**"
   ]
  },
  {
   "cell_type": "markdown",
   "metadata": {},
   "source": [
    "**Part 6: Topic Modeling**"
   ]
  },
  {
   "cell_type": "markdown",
   "metadata": {},
   "source": [
    "**Intuition:**\n",
    "<img src=\"pic\\topic_model.png\"   style=\"width: 600px;\"/>\n",
    "\n",
    "Check [here](http://www.cs.princeton.edu/~blei/papers/Blei2012.pdf) for more details about topic modeling.\n",
    "\n",
    "**What are the aspects when customers talk about Chinese restaurants?**"
   ]
  },
  {
   "cell_type": "markdown",
   "metadata": {},
   "source": [
    "** 6.1 Extract all Chinese restaurant reviews in 2014**"
   ]
  },
  {
   "cell_type": "code",
   "execution_count": 72,
   "metadata": {
    "collapsed": true
   },
   "outputs": [],
   "source": [
    "alltext = []\n",
    "for text in review['text']:\n",
    "    alltext.append(text.decode('ISO-8859-1'))"
   ]
  },
  {
   "cell_type": "markdown",
   "metadata": {},
   "source": [
    "**6.2 Retain words in the reviews via regular expression.**"
   ]
  },
  {
   "cell_type": "code",
   "execution_count": 73,
   "metadata": {
    "collapsed": true
   },
   "outputs": [],
   "source": [
    "x = CountVectorizer(token_pattern=r'\\b[a-z]+\\b')"
   ]
  },
  {
   "cell_type": "markdown",
   "metadata": {},
   "source": [
    "**6.3 Vectorize the reviews as an input for gensim package**"
   ]
  },
  {
   "cell_type": "code",
   "execution_count": 74,
   "metadata": {
    "collapsed": true
   },
   "outputs": [],
   "source": [
    "topicvector = x.fit_transform(alltext)\n",
    "topicfeature=np.array(x.get_feature_names())\n",
    "name=list(topicfeature) #name is a list that includs all words\n",
    "numofwords=topicvector.shape[1] #total number of words"
   ]
  },
  {
   "cell_type": "markdown",
   "metadata": {},
   "source": [
    "**6.4 Prepare two parameters of the LdaModel function**"
   ]
  },
  {
   "cell_type": "code",
   "execution_count": 75,
   "metadata": {
    "collapsed": true
   },
   "outputs": [],
   "source": [
    "corpus_gensim = matutils.Sparse2Corpus(topicvector.T)\n",
    "vocab_gensim = {val:key for key,val in x.vocabulary_.items()}"
   ]
  },
  {
   "cell_type": "markdown",
   "metadata": {},
   "source": [
    "**6.5 Run topic model**"
   ]
  },
  {
   "cell_type": "markdown",
   "metadata": {},
   "source": [
    "**Knowledge point: Run your model at least 100 times (i.e. passes=100).**\n",
    "\n",
    "* ** For the sake of demonstration, I will assume the number of topics is 5 and run the following model 10 times. **"
   ]
  },
  {
   "cell_type": "code",
   "execution_count": 338,
   "metadata": {
    "collapsed": false
   },
   "outputs": [
    {
     "name": "stdout",
     "output_type": "stream",
     "text": [
      "--- 211.801000118 seconds ---\n"
     ]
    }
   ],
   "source": [
    "start_time = time.time()\n",
    "topicnum=5\n",
    "model1 = ldamodel.LdaModel(corpus_gensim,id2word=vocab_gensim,num_topics=topicnum,passes=10)\n",
    "print(\"--- %s seconds ---\" % (time.time() - start_time))"
   ]
  },
  {
   "cell_type": "markdown",
   "metadata": {},
   "source": [
    "** 6.6 Show the top words per topic. Use the following equation: **\n",
    "\n",
    "$\\psi_{k,w} = \\log \\beta_{k,w} - \\log \\frac{1}{K} \\sum_{k'} \\beta_{k',w}$,\n",
    "\n",
    "where \n",
    "- $k$ indexes a topic\n",
    "- $w$ indexes a word\n",
    "- $\\psi_{k,w}$ is the score for a word $w$ in topic $k$\n",
    "- $K$ is the total number of topics\n",
    "- $\\beta_{k,w}$ is the probability of word $w$ appearing in topic $k$"
   ]
  },
  {
   "cell_type": "markdown",
   "metadata": {},
   "source": [
    "**Intuition:**\n",
    "<img src=\"pic\\word_score.png\"   style=\"width: 750px;\"/>"
   ]
  },
  {
   "cell_type": "code",
   "execution_count": 340,
   "metadata": {
    "collapsed": false
   },
   "outputs": [],
   "source": [
    "allfeatureprob=model1.show_topics(num_topics=topicnum, num_words=numofwords, formatted=False)\n",
    "wordsprob=dict()\n",
    "for i in range(topicnum):\n",
    "    wordsprob[i]=dict()\n",
    "    for j in range(numofwords):\n",
    "        #print i, j\n",
    "        feature=allfeatureprob[i][j][1]\n",
    "        prob=allfeatureprob[i][j][0]\n",
    "        wordsprob[i][feature]=prob"
   ]
  },
  {
   "cell_type": "code",
   "execution_count": 341,
   "metadata": {
    "collapsed": false
   },
   "outputs": [
    {
     "name": "stdout",
     "output_type": "stream",
     "text": [
      "Top 10 words in topic 1\n",
      "[(u'pancake', 1.583898610894428), (u'szechuan', 1.5825510966147975), (u'shanghai', 1.5809938066181974), (u'xiao', 1.5711495252136967), (u'xlb', 1.5708072013343353), (u'stew', 1.5523519697840502), (u'shredded', 1.5508925195905938), (u'tendon', 1.546333610812237), (u'taiwan', 1.5420604943940202), (u'pickled', 1.5393893663905978)]\n",
      "\n",
      "Top 10 words in topic 2\n",
      "[(u'sum', 1.608721789773977), (u'dim', 1.6083850593338047), (u'carts', 1.6075184602256307), (u'paris', 1.6069875865873327), (u'pong', 1.6067770941074757), (u'pang', 1.6067741172986327), (u'ping', 1.606730745058039), (u'cathay', 1.6060950473613564), (u'orchid', 1.6044549987191878), (u'custard', 1.6039052447091846)]\n",
      "\n",
      "Top 10 words in topic 3\n",
      "[(u'cheese', 1.5739745976977364), (u'teriyaki', 1.5733994164516254), (u'banana', 1.5688655252420745), (u'rib', 1.5649176772283884), (u'groupon', 1.5633043412391796), (u'chocolate', 1.5615193409817643), (u'tso', 1.5575352247324812), (u'cheesecake', 1.5544758756030159), (u'dressing', 1.5439056545732619), (u'burger', 1.5430576220238761)]\n",
      "\n",
      "Top 10 words in topic 4\n",
      "[(u'always', 1.5356975963521027), (u'consistent', 1.5328449537358946), (u'affordable', 1.5038180126182645), (u'northern', 1.4934423191563582), (u'cares', 1.4827142964451578), (u'sometimes', 1.4813316128846257), (u'hits', 1.4681343178615602), (u'sometime', 1.4550436134941833), (u'foo', 1.4544094889656378), (u'support', 1.4503857145624277)]\n",
      "\n",
      "Top 10 words in topic 5\n",
      "[(u'waited', 1.5919788673747437), (u'him', 1.5824714437094842), (u'told', 1.5670936684785888), (u'charged', 1.5667417924197018), (u'her', 1.5633961962654777), (u'walked', 1.5604581970078524), (u'asked', 1.5429010479282796), (u'she', 1.5334628356311084), (u'ignored', 1.5303668156776293), (u'waiting', 1.5259680378840876)]\n",
      "\n"
     ]
    }
   ],
   "source": [
    "wordscore=dict()\n",
    "for i in range(topicnum):\n",
    "    wordscore[i]=Counter()\n",
    "    for feature in name:\n",
    "        probsum=0\n",
    "        for j in range(topicnum):\n",
    "            probsum += wordsprob[j][feature]\n",
    "        wordscore[i][feature]=log(wordsprob[i][feature])-log(1.0*probsum/topicnum)\n",
    "    \n",
    "for i in range(topicnum):\n",
    "    print \"Top 10 words in topic\", i+1\n",
    "    print wordscore[i].most_common(10)\n",
    "    print \"\""
   ]
  },
  {
   "cell_type": "markdown",
   "metadata": {},
   "source": [
    "**Topic 1: Traditionall Chinese Food**\n",
    "\n",
    "<img src=\"pic\\topic1.png\"   style=\"width: 800px;\"/>"
   ]
  },
  {
   "cell_type": "markdown",
   "metadata": {},
   "source": [
    "**Topic 2: Canton Chinese Food**\n",
    "<img src=\"pic\\topic2.png\"   style=\"width: 800px;\"/>"
   ]
  },
  {
   "cell_type": "markdown",
   "metadata": {},
   "source": [
    "**Topic 3: American Chinese Food**\n",
    "<img src=\"pic\\topic3.png\"   style=\"width: 800px;\"/>"
   ]
  },
  {
   "cell_type": "markdown",
   "metadata": {},
   "source": [
    "**Topic 4: Satisfaction**\n",
    "<img src=\"pic\\topic4.png\"   style=\"width: 800px;\"/>"
   ]
  },
  {
   "cell_type": "markdown",
   "metadata": {},
   "source": [
    "**Topic 5: Dissatistaction**\n",
    "<img src=\"pic\\topic5.png\"   style=\"width: 800px;\"/>"
   ]
  },
  {
   "cell_type": "markdown",
   "metadata": {},
   "source": [
    "**6.7 Calculate the strength of a topic for each review **"
   ]
  },
  {
   "cell_type": "code",
   "execution_count": 342,
   "metadata": {
    "collapsed": true
   },
   "outputs": [],
   "source": [
    "topidlist=np.arange(topicnum)\n",
    "strength=dict()\n",
    "for i in range(topicnum):\n",
    "    strength[i]=[]\n",
    "for j, doc in enumerate(corpus_gensim):\n",
    "    #print j\n",
    "    templist=model1[doc]\n",
    "    tlist=[]\n",
    "    #print len(templist)\n",
    "    for k in range(len(templist)):\n",
    "        strength[templist[k][0]].append(templist[k][1]*1000)\n",
    "        #print templist[k][0]\n",
    "        tlist.append(templist[k][0])\n",
    "    templist1=list(set(topidlist)-set(tlist))\n",
    "    if templist1:\n",
    "        for id in templist1:\n",
    "            strength[id].append(0)"
   ]
  },
  {
   "cell_type": "markdown",
   "metadata": {},
   "source": [
    "** 6.8 Create a new dataframe for each review and add the topic strength to it**"
   ]
  },
  {
   "cell_type": "code",
   "execution_count": 343,
   "metadata": {
    "collapsed": false
   },
   "outputs": [],
   "source": [
    "pd_topic=review[['business_id','stars']]"
   ]
  },
  {
   "cell_type": "code",
   "execution_count": 344,
   "metadata": {
    "collapsed": false
   },
   "outputs": [
    {
     "name": "stderr",
     "output_type": "stream",
     "text": [
      "C:\\Anaconda2\\lib\\site-packages\\ipykernel\\__main__.py:2: SettingWithCopyWarning: \n",
      "A value is trying to be set on a copy of a slice from a DataFrame.\n",
      "Try using .loc[row_indexer,col_indexer] = value instead\n",
      "\n",
      "See the caveats in the documentation: http://pandas.pydata.org/pandas-docs/stable/indexing.html#indexing-view-versus-copy\n",
      "  from ipykernel import kernelapp as app\n"
     ]
    }
   ],
   "source": [
    "#Note: No worry if you see any warning. You can try using .loc[row_indexer,col_indexer] = value instead. The result is the same.\n",
    "for i ian range(topicnum):\n",
    "    pd_topic['topic'+str(i+1)]=strength[i]"
   ]
  },
  {
   "cell_type": "code",
   "execution_count": 345,
   "metadata": {
    "collapsed": false
   },
   "outputs": [],
   "source": [
    "topicname=['topic1','topic2','topic3','topic4','topic5']"
   ]
  },
  {
   "cell_type": "markdown",
   "metadata": {},
   "source": [
    "**6.9 Calculate the average rating and average topic stregnth for each restaurant**"
   ]
  },
  {
   "cell_type": "code",
   "execution_count": 346,
   "metadata": {
    "collapsed": false
   },
   "outputs": [],
   "source": [
    "pd_topic_average=pd_topic.groupby(['business_id'])[['stars','topic1','topic2','topic3','topic4','topic5']].mean().reset_index()"
   ]
  },
  {
   "cell_type": "markdown",
   "metadata": {},
   "source": [
    "**6.10 Show the descriptive analysis results of restaurant rating**"
   ]
  },
  {
   "cell_type": "code",
   "execution_count": 347,
   "metadata": {
    "collapsed": false
   },
   "outputs": [
    {
     "data": {
      "text/plain": [
       "count    213.000000\n",
       "mean       3.249996\n",
       "std        0.837472\n",
       "min        1.000000\n",
       "25%        2.750000\n",
       "50%        3.388889\n",
       "75%        3.782609\n",
       "max        5.000000\n",
       "Name: stars, dtype: float64"
      ]
     },
     "execution_count": 347,
     "metadata": {},
     "output_type": "execute_result"
    }
   ],
   "source": [
    "pd_topic_average['stars'].describe()"
   ]
  },
  {
   "cell_type": "code",
   "execution_count": 382,
   "metadata": {
    "collapsed": false
   },
   "outputs": [
    {
     "data": {
      "image/png": "[encoded data removed]",
      "text/plain": [
       "<matplotlib.figure.Figure at 0xa5831be0>"
      ]
     },
     "metadata": {},
     "output_type": "display_data"
    }
   ],
   "source": [
    "import matplotlib.gridspec as gridspec\n",
    "\n",
    "#define the figure size and grid layout properties\n",
    "figsize = (10, 35)\n",
    "cols = 1\n",
    "gs = gridspec.GridSpec(len(topidlist) // cols + 1, cols)\n",
    "\n",
    "\n",
    "fig1 = plt.figure(num=1, figsize=figsize)\n",
    "ax = []\n",
    "\n",
    "row = (0 // cols)\n",
    "col = 0 % cols\n",
    "ax.append(fig1.add_subplot(gs[row, col]))\n",
    "ax[-1].set_title('Rating in the 1st Quarter (<2.75)', y=1, fontsize=14 )\n",
    "ax[-1].set_ylabel('Restaurant')\n",
    "#ax[-1].set_ylabel('Topic')\n",
    "ax[-1].axis([ 0.5, 5.5,-5, 59])\n",
    "ax[-1].set_xticks([1,2,3,4,5])\n",
    "ax[-1].set_xticklabels( ('Traditional Chinese','Canton','American-Chinese', 'Satisfaction','Dissatisfaction'), fontsize=14 )\n",
    "\n",
    "x_business=[]\n",
    "y_topic=[]\n",
    "size_prob=[]\n",
    "pd_selected=pd_topic_average[pd_topic_average['stars']<2.75]\n",
    "for i, biz_id in enumerate(pd_selected.index.tolist()):\n",
    "    for j, topic in enumerate(topicname):\n",
    "        x_business.append(i+1)\n",
    "        y_topic.append(j+1)\n",
    "        size_prob.append(pd_selected['topic'+str(j+1)][biz_id])\n",
    "\n",
    "plt.scatter(y_topic,x_business,s=size_prob, alpha=0.2,c='r')        \n",
    "\n",
    "\n",
    "row = (1 // cols)\n",
    "col = 1 % cols\n",
    "ax.append(fig1.add_subplot(gs[row, col]))\n",
    "ax[-1].set_title('Rating in the 3th Quarter (>3.78)', y=1, fontsize=14 )\n",
    "ax[-1].set_ylabel('Restaurant')\n",
    "#ax[-1].set_ylabel('Topic')\n",
    "ax[-1].axis([ 0.5, 5.5,-5, 59])\n",
    "ax[-1].set_xticks([1,2,3,4,5])\n",
    "ax[-1].set_xticklabels( ('Traditional Chinese','Canton','American-Chinese', 'Satisfaction','Dissatisfaction'), fontsize=14  )\n",
    "x_business=[]\n",
    "y_topic=[]\n",
    "size_prob=[]\n",
    "pd_selected=pd_topic_average[pd_topic_average['stars']>3.78]\n",
    "for i, biz_id in enumerate(pd_selected.index.tolist()):\n",
    "    for j, topic in enumerate(topicname):\n",
    "        x_business.append(i+1)\n",
    "        y_topic.append(j+1)\n",
    "        size_prob.append(pd_selected['topic'+str(j+1)][biz_id])\n",
    "\n",
    "plt.scatter(y_topic,x_business,s=size_prob, alpha=0.2,c='r')    \n",
    "\n",
    "plt.show()"
   ]
  },
  {
   "cell_type": "markdown",
   "metadata": {},
   "source": [
    "** What is your take from the results above?**\n",
    "\n",
    "* American-Chinese and Dissatisfaction are two important aspects in determining restaurant rating.\n",
    "* For Dissatisfaction, we saw some clues from the analysis in previous parts.\n",
    "* For American-Chinese,  it is a new insight extracted from the topic modeling."
   ]
  },
  {
   "cell_type": "markdown",
   "metadata": {},
   "source": [
    "**Key Takeaways**\n",
    "* Run topic model at least 100 times.\n",
    "* Change the number of topics (e.g., 10, 50, 100) until you obtain a stable sets of topics.\n",
    "* Visualize your results.\n",
    "<img src=\"pic\\topic.png\"   style=\"width: 750px;\"/>"
   ]
  },
  {
   "cell_type": "markdown",
   "metadata": {},
   "source": [
    "**Exercise 3: **\n",
    "\n",
    "**I will invite one group to present their results. Please post them [here](https://docs.google.com/presentation/d/16M33icdjqbJ3jxl9X5LYcKqKSTTRTQZXXWhtPKFBMQI/edit#slide=id.ge4585dd65_1_155)**\n",
    "\n",
    "* Import the hospital review dataset into you iPython notebook.\n",
    "* What are the key aspects of hospital’s reviews with 5 topics and 10 passes? \n",
    "* Change the number of topics in your analysis and see if you can still get similar results. "
   ]
  },
  {
   "cell_type": "markdown",
   "metadata": {},
   "source": [
    "**----------------------------------------------------------------------------------------------------------------------------**"
   ]
  },
  {
   "cell_type": "markdown",
   "metadata": {},
   "source": [
    "**Text mining results as inputs for Econometrics analysis (e.g., regression)**"
   ]
  }
 ],
 "metadata": {
  "kernelspec": {
   "display_name": "Python 2",
   "language": "python",
   "name": "python2"
  },
  "language_info": {
   "codemirror_mode": {
    "name": "ipython",
    "version": 2
   },
   "file_extension": ".py",
   "mimetype": "text/x-python",
   "name": "python",
   "nbconvert_exporter": "python",
   "pygments_lexer": "ipython2",
   "version": "2.7.10"
  }
 },
 "nbformat": 4,
 "nbformat_minor": 0
}
